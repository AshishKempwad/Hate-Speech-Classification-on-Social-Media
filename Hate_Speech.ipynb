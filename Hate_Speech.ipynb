{
 "cells": [
  {
   "cell_type": "code",
   "execution_count": 1,
   "metadata": {},
   "outputs": [],
   "source": [
    "import numpy as np\n",
    "import pandas as pd"
   ]
  },
  {
   "cell_type": "code",
   "execution_count": 2,
   "metadata": {},
   "outputs": [],
   "source": [
    "#Read train data\n",
    "train = pd.read_csv('1fe720be-90e4-4e06-9b52-9de93e0ea937_train.csv')"
   ]
  },
  {
   "cell_type": "code",
   "execution_count": 3,
   "metadata": {},
   "outputs": [
    {
     "data": {
      "text/html": [
       "<div>\n",
       "<style scoped>\n",
       "    .dataframe tbody tr th:only-of-type {\n",
       "        vertical-align: middle;\n",
       "    }\n",
       "\n",
       "    .dataframe tbody tr th {\n",
       "        vertical-align: top;\n",
       "    }\n",
       "\n",
       "    .dataframe thead th {\n",
       "        text-align: right;\n",
       "    }\n",
       "</style>\n",
       "<table border=\"1\" class=\"dataframe\">\n",
       "  <thead>\n",
       "    <tr style=\"text-align: right;\">\n",
       "      <th></th>\n",
       "      <th>text</th>\n",
       "      <th>labels</th>\n",
       "    </tr>\n",
       "  </thead>\n",
       "  <tbody>\n",
       "    <tr>\n",
       "      <th>0</th>\n",
       "      <td>@realDonaldTrump This is one of the worst time...</td>\n",
       "      <td>0</td>\n",
       "    </tr>\n",
       "    <tr>\n",
       "      <th>1</th>\n",
       "      <td>How about the crowd in Oval in today's #AUSvIN...</td>\n",
       "      <td>1</td>\n",
       "    </tr>\n",
       "    <tr>\n",
       "      <th>2</th>\n",
       "      <td>@skroskz @shossy2 @JoeBiden Biden &amp;amp; his so...</td>\n",
       "      <td>0</td>\n",
       "    </tr>\n",
       "    <tr>\n",
       "      <th>3</th>\n",
       "      <td>#etsy shop: Benedict Donald so called presiden...</td>\n",
       "      <td>1</td>\n",
       "    </tr>\n",
       "    <tr>\n",
       "      <th>4</th>\n",
       "      <td>@realDonaldTrump Good build a wall around Arka...</td>\n",
       "      <td>0</td>\n",
       "    </tr>\n",
       "  </tbody>\n",
       "</table>\n",
       "</div>"
      ],
      "text/plain": [
       "                                                text  labels\n",
       "0  @realDonaldTrump This is one of the worst time...       0\n",
       "1  How about the crowd in Oval in today's #AUSvIN...       1\n",
       "2  @skroskz @shossy2 @JoeBiden Biden &amp; his so...       0\n",
       "3  #etsy shop: Benedict Donald so called presiden...       1\n",
       "4  @realDonaldTrump Good build a wall around Arka...       0"
      ]
     },
     "execution_count": 3,
     "metadata": {},
     "output_type": "execute_result"
    }
   ],
   "source": [
    "train.head()\n",
    "# print(train)"
   ]
  },
  {
   "cell_type": "code",
   "execution_count": 4,
   "metadata": {},
   "outputs": [
    {
     "name": "stdout",
     "output_type": "stream",
     "text": [
      "<class 'pandas.core.frame.DataFrame'>\n",
      "RangeIndex: 5266 entries, 0 to 5265\n",
      "Data columns (total 2 columns):\n",
      "text      5266 non-null object\n",
      "labels    5266 non-null int64\n",
      "dtypes: int64(1), object(1)\n",
      "memory usage: 82.4+ KB\n"
     ]
    }
   ],
   "source": [
    "train.info()"
   ]
  },
  {
   "cell_type": "code",
   "execution_count": 5,
   "metadata": {},
   "outputs": [],
   "source": [
    "#Read test data\n",
    "test = pd.read_csv('final_test.csv')"
   ]
  },
  {
   "cell_type": "code",
   "execution_count": 6,
   "metadata": {},
   "outputs": [
    {
     "data": {
      "text/html": [
       "<div>\n",
       "<style scoped>\n",
       "    .dataframe tbody tr th:only-of-type {\n",
       "        vertical-align: middle;\n",
       "    }\n",
       "\n",
       "    .dataframe tbody tr th {\n",
       "        vertical-align: top;\n",
       "    }\n",
       "\n",
       "    .dataframe thead th {\n",
       "        text-align: right;\n",
       "    }\n",
       "</style>\n",
       "<table border=\"1\" class=\"dataframe\">\n",
       "  <thead>\n",
       "    <tr style=\"text-align: right;\">\n",
       "      <th></th>\n",
       "      <th>Unnamed: 0</th>\n",
       "      <th>text_id</th>\n",
       "      <th>text</th>\n",
       "    </tr>\n",
       "  </thead>\n",
       "  <tbody>\n",
       "    <tr>\n",
       "      <th>0</th>\n",
       "      <td>0</td>\n",
       "      <td>hasoc_en_902</td>\n",
       "      <td>West Bengal Doctor Crisis: Protesting doctors ...</td>\n",
       "    </tr>\n",
       "    <tr>\n",
       "      <th>1</th>\n",
       "      <td>1</td>\n",
       "      <td>hasoc_en_416</td>\n",
       "      <td>68.5 million people have been forced to leave ...</td>\n",
       "    </tr>\n",
       "    <tr>\n",
       "      <th>2</th>\n",
       "      <td>2</td>\n",
       "      <td>hasoc_en_207</td>\n",
       "      <td>You came, you saw .... we will look after the ...</td>\n",
       "    </tr>\n",
       "    <tr>\n",
       "      <th>3</th>\n",
       "      <td>3</td>\n",
       "      <td>hasoc_en_595</td>\n",
       "      <td>We'll get Brexit delivered by October 31st.   ...</td>\n",
       "    </tr>\n",
       "    <tr>\n",
       "      <th>4</th>\n",
       "      <td>4</td>\n",
       "      <td>hasoc_en_568</td>\n",
       "      <td>Fuck you. Go back to the dark ages you cow @IB...</td>\n",
       "    </tr>\n",
       "  </tbody>\n",
       "</table>\n",
       "</div>"
      ],
      "text/plain": [
       "   Unnamed: 0       text_id                                               text\n",
       "0           0  hasoc_en_902  West Bengal Doctor Crisis: Protesting doctors ...\n",
       "1           1  hasoc_en_416  68.5 million people have been forced to leave ...\n",
       "2           2  hasoc_en_207  You came, you saw .... we will look after the ...\n",
       "3           3  hasoc_en_595  We'll get Brexit delivered by October 31st.   ...\n",
       "4           4  hasoc_en_568  Fuck you. Go back to the dark ages you cow @IB..."
      ]
     },
     "execution_count": 6,
     "metadata": {},
     "output_type": "execute_result"
    }
   ],
   "source": [
    "test.head()"
   ]
  },
  {
   "cell_type": "code",
   "execution_count": 7,
   "metadata": {},
   "outputs": [],
   "source": [
    "test.drop(columns='Unnamed: 0',inplace=True)"
   ]
  },
  {
   "cell_type": "code",
   "execution_count": 8,
   "metadata": {},
   "outputs": [],
   "source": [
    "test.drop(columns='text_id',inplace=True)"
   ]
  },
  {
   "cell_type": "code",
   "execution_count": 9,
   "metadata": {},
   "outputs": [
    {
     "data": {
      "text/html": [
       "<div>\n",
       "<style scoped>\n",
       "    .dataframe tbody tr th:only-of-type {\n",
       "        vertical-align: middle;\n",
       "    }\n",
       "\n",
       "    .dataframe tbody tr th {\n",
       "        vertical-align: top;\n",
       "    }\n",
       "\n",
       "    .dataframe thead th {\n",
       "        text-align: right;\n",
       "    }\n",
       "</style>\n",
       "<table border=\"1\" class=\"dataframe\">\n",
       "  <thead>\n",
       "    <tr style=\"text-align: right;\">\n",
       "      <th></th>\n",
       "      <th>text</th>\n",
       "    </tr>\n",
       "  </thead>\n",
       "  <tbody>\n",
       "    <tr>\n",
       "      <th>0</th>\n",
       "      <td>West Bengal Doctor Crisis: Protesting doctors ...</td>\n",
       "    </tr>\n",
       "    <tr>\n",
       "      <th>1</th>\n",
       "      <td>68.5 million people have been forced to leave ...</td>\n",
       "    </tr>\n",
       "    <tr>\n",
       "      <th>2</th>\n",
       "      <td>You came, you saw .... we will look after the ...</td>\n",
       "    </tr>\n",
       "    <tr>\n",
       "      <th>3</th>\n",
       "      <td>We'll get Brexit delivered by October 31st.   ...</td>\n",
       "    </tr>\n",
       "    <tr>\n",
       "      <th>4</th>\n",
       "      <td>Fuck you. Go back to the dark ages you cow @IB...</td>\n",
       "    </tr>\n",
       "  </tbody>\n",
       "</table>\n",
       "</div>"
      ],
      "text/plain": [
       "                                                text\n",
       "0  West Bengal Doctor Crisis: Protesting doctors ...\n",
       "1  68.5 million people have been forced to leave ...\n",
       "2  You came, you saw .... we will look after the ...\n",
       "3  We'll get Brexit delivered by October 31st.   ...\n",
       "4  Fuck you. Go back to the dark ages you cow @IB..."
      ]
     },
     "execution_count": 9,
     "metadata": {},
     "output_type": "execute_result"
    }
   ],
   "source": [
    "test.head()"
   ]
  },
  {
   "cell_type": "code",
   "execution_count": 10,
   "metadata": {},
   "outputs": [],
   "source": [
    "\n",
    "#We the labels(0/1) which signifies 'Hate speech(1)' or 'Not a hate speech(0) in of type int64 which we \n",
    "#convert to type category. We use 'astype' to cast the datatype\n",
    "\n",
    "train['labels'] = train['labels'].astype('category')"
   ]
  },
  {
   "cell_type": "code",
   "execution_count": 11,
   "metadata": {},
   "outputs": [],
   "source": [
    "\n",
    "import re\n",
    "def remove_urls(text):\n",
    "    url_pattern = re.compile(r'https?://\\S+|www\\.\\S+')\n",
    "    return url_pattern.sub(r'', text)\n",
    "\n",
    "train[\"text_w/o_url\"] = train[\"text\"].apply(lambda text: remove_urls(text))\n",
    "test[\"text_w/o_url\"] = test[\"text\"].apply(lambda text: remove_urls(text))"
   ]
  },
  {
   "cell_type": "code",
   "execution_count": 12,
   "metadata": {},
   "outputs": [
    {
     "name": "stdout",
     "output_type": "stream",
     "text": [
      "                                                text labels  \\\n",
      "0  @realDonaldTrump This is one of the worst time...      0   \n",
      "1  How about the crowd in Oval in today's #AUSvIN...      1   \n",
      "2  @skroskz @shossy2 @JoeBiden Biden &amp; his so...      0   \n",
      "3  #etsy shop: Benedict Donald so called presiden...      1   \n",
      "4  @realDonaldTrump Good build a wall around Arka...      0   \n",
      "\n",
      "                                        text_w/o_url  \n",
      "0  @realDonaldTrump This is one of the worst time...  \n",
      "1  How about the crowd in Oval in today's #AUSvIN...  \n",
      "2  @skroskz @shossy2 @JoeBiden Biden &amp; his so...  \n",
      "3  #etsy shop: Benedict Donald so called presiden...  \n",
      "4  @realDonaldTrump Good build a wall around Arka...  \n"
     ]
    }
   ],
   "source": [
    "print(train.head())"
   ]
  },
  {
   "cell_type": "code",
   "execution_count": 13,
   "metadata": {},
   "outputs": [
    {
     "name": "stdout",
     "output_type": "stream",
     "text": [
      "                                                text  \\\n",
      "0  West Bengal Doctor Crisis: Protesting doctors ...   \n",
      "1  68.5 million people have been forced to leave ...   \n",
      "2  You came, you saw .... we will look after the ...   \n",
      "3  We'll get Brexit delivered by October 31st.   ...   \n",
      "4  Fuck you. Go back to the dark ages you cow @IB...   \n",
      "\n",
      "                                        text_w/o_url  \n",
      "0  West Bengal Doctor Crisis: Protesting doctors ...  \n",
      "1  68.5 million people have been forced to leave ...  \n",
      "2  You came, you saw .... we will look after the ...  \n",
      "3  We'll get Brexit delivered by October 31st.   ...  \n",
      "4  Fuck you. Go back to the dark ages you cow @IB...  \n"
     ]
    }
   ],
   "source": [
    "print(test.head())"
   ]
  },
  {
   "cell_type": "code",
   "execution_count": 14,
   "metadata": {},
   "outputs": [],
   "source": [
    "from nltk.stem import WordNetLemmatizer\n",
    "from nltk import tokenize"
   ]
  },
  {
   "cell_type": "code",
   "execution_count": 15,
   "metadata": {},
   "outputs": [],
   "source": [
    "train['text_lem'] = [''.join([WordNetLemmatizer().lemmatize(re.sub('[^A-Za-z]',' ',text)) for text in lis]) for lis in train['text_w/o_url']]\n",
    "test['text_lem'] = [''.join([WordNetLemmatizer().lemmatize(re.sub('[^A-Za-z]',' ',text)) for text in lis]) for lis in test['text_w/o_url']]"
   ]
  },
  {
   "cell_type": "code",
   "execution_count": 16,
   "metadata": {},
   "outputs": [
    {
     "name": "stdout",
     "output_type": "stream",
     "text": [
      "                                                text labels  \\\n",
      "0  @realDonaldTrump This is one of the worst time...      0   \n",
      "1  How about the crowd in Oval in today's #AUSvIN...      1   \n",
      "2  @skroskz @shossy2 @JoeBiden Biden &amp; his so...      0   \n",
      "3  #etsy shop: Benedict Donald so called presiden...      1   \n",
      "4  @realDonaldTrump Good build a wall around Arka...      0   \n",
      "\n",
      "                                        text_w/o_url  \\\n",
      "0  @realDonaldTrump This is one of the worst time...   \n",
      "1  How about the crowd in Oval in today's #AUSvIN...   \n",
      "2  @skroskz @shossy2 @JoeBiden Biden &amp; his so...   \n",
      "3  #etsy shop: Benedict Donald so called presiden...   \n",
      "4  @realDonaldTrump Good build a wall around Arka...   \n",
      "\n",
      "                                            text_lem  \n",
      "0   realDonaldTrump This is one of the worst time...  \n",
      "1  How about the crowd in Oval in today s  AUSvIN...  \n",
      "2   skroskz  shossy   JoeBiden Biden  amp  his so...  \n",
      "3   etsy shop  Benedict Donald so called presiden...  \n",
      "4   realDonaldTrump Good build a wall around Arka...  \n"
     ]
    }
   ],
   "source": [
    "print(train.head())"
   ]
  },
  {
   "cell_type": "code",
   "execution_count": 17,
   "metadata": {},
   "outputs": [
    {
     "name": "stdout",
     "output_type": "stream",
     "text": [
      "                                                text  \\\n",
      "0  West Bengal Doctor Crisis: Protesting doctors ...   \n",
      "1  68.5 million people have been forced to leave ...   \n",
      "2  You came, you saw .... we will look after the ...   \n",
      "3  We'll get Brexit delivered by October 31st.   ...   \n",
      "4  Fuck you. Go back to the dark ages you cow @IB...   \n",
      "\n",
      "                                        text_w/o_url  \\\n",
      "0  West Bengal Doctor Crisis: Protesting doctors ...   \n",
      "1  68.5 million people have been forced to leave ...   \n",
      "2  You came, you saw .... we will look after the ...   \n",
      "3  We'll get Brexit delivered by October 31st.   ...   \n",
      "4  Fuck you. Go back to the dark ages you cow @IB...   \n",
      "\n",
      "                                            text_lem  \n",
      "0  West Bengal Doctor Crisis  Protesting doctors ...  \n",
      "1       million people have been forced to leave ...  \n",
      "2  You came  you saw      we will look after the ...  \n",
      "3  We ll get Brexit delivered by October   st    ...  \n",
      "4  Fuck you  Go back to the dark ages you cow  IB...  \n"
     ]
    }
   ],
   "source": [
    "print(test.head())"
   ]
  },
  {
   "cell_type": "code",
   "execution_count": 18,
   "metadata": {},
   "outputs": [],
   "source": [
    "# from nltk.corpus import stopwords\n",
    "# STOPWORDS = set(stopwords.words('english'))\n",
    "# def remove_stopwords(text):\n",
    "#     \"\"\"custom function to remove the stopwords\"\"\"\n",
    "#     return \" \".join([word for word in str(text).split() if word not in STOPWORDS])\n",
    "\n",
    "# train[\"text_w/o_stop\"] = train[\"text_lem\"].apply(lambda text: remove_stopwords(text))\n",
    "\n",
    "# test[\"text_w/o_stop\"] = test[\"text_lem\"].apply(lambda text: remove_stopwords(text))\n"
   ]
  },
  {
   "cell_type": "code",
   "execution_count": null,
   "metadata": {},
   "outputs": [],
   "source": []
  },
  {
   "cell_type": "code",
   "execution_count": null,
   "metadata": {},
   "outputs": [],
   "source": []
  },
  {
   "cell_type": "code",
   "execution_count": null,
   "metadata": {},
   "outputs": [],
   "source": []
  },
  {
   "cell_type": "code",
   "execution_count": null,
   "metadata": {},
   "outputs": [],
   "source": []
  },
  {
   "cell_type": "code",
   "execution_count": 18,
   "metadata": {},
   "outputs": [],
   "source": []
  },
  {
   "cell_type": "code",
   "execution_count": 19,
   "metadata": {},
   "outputs": [],
   "source": [
    "from sklearn.feature_extraction.text import TfidfVectorizer"
   ]
  },
  {
   "cell_type": "code",
   "execution_count": 20,
   "metadata": {},
   "outputs": [],
   "source": [
    "vectorizer = TfidfVectorizer()"
   ]
  },
  {
   "cell_type": "code",
   "execution_count": 21,
   "metadata": {},
   "outputs": [],
   "source": [
    " X = vectorizer.fit_transform(train['text_lem'])"
   ]
  },
  {
   "cell_type": "code",
   "execution_count": 22,
   "metadata": {},
   "outputs": [],
   "source": [
    "# print(X)"
   ]
  },
  {
   "cell_type": "code",
   "execution_count": 23,
   "metadata": {},
   "outputs": [],
   "source": [
    "from sklearn.model_selection import train_test_split\n",
    "\n",
    "X_train,X_test,y_train,y_test = train_test_split(X,train['labels'])"
   ]
  },
  {
   "cell_type": "code",
   "execution_count": 24,
   "metadata": {},
   "outputs": [],
   "source": [
    "from sklearn.svm import SVC\n",
    "from sklearn.metrics import f1_score\n",
    "from sklearn.metrics import accuracy_score"
   ]
  },
  {
   "cell_type": "code",
   "execution_count": 25,
   "metadata": {},
   "outputs": [
    {
     "name": "stderr",
     "output_type": "stream",
     "text": [
      "/home/ashish/anaconda3/lib/python3.7/site-packages/sklearn/svm/base.py:193: FutureWarning: The default value of gamma will change from 'auto' to 'scale' in version 0.22 to account better for unscaled features. Set gamma explicitly to 'auto' or 'scale' to avoid this warning.\n",
      "  \"avoid this warning.\", FutureWarning)\n"
     ]
    }
   ],
   "source": [
    "modelSVC = SVC().fit(X_train,y_train)"
   ]
  },
  {
   "cell_type": "code",
   "execution_count": 26,
   "metadata": {},
   "outputs": [
    {
     "name": "stdout",
     "output_type": "stream",
     "text": [
      "The F1 score using SVm with C=100 is :\n",
      "0.7587181903864278\n",
      "The accuracy using SVM with C=100 is :\n",
      "0.6112376613515565\n"
     ]
    }
   ],
   "source": [
    "predictionsSVC = modelSVC.predict(X_test)\n",
    "# sum(predictionsSVC==1),len(y_test),\n",
    "print('The F1 score using SVm with C=100 is :')\n",
    "print(f1_score(y_test,predictionsSVC))\n",
    "print('The accuracy using SVM with C=100 is :')\n",
    "print(accuracy_score(y_test,predictionsSVC))"
   ]
  },
  {
   "cell_type": "code",
   "execution_count": 27,
   "metadata": {},
   "outputs": [],
   "source": [
    "from sklearn.naive_bayes import MultinomialNB"
   ]
  },
  {
   "cell_type": "code",
   "execution_count": 28,
   "metadata": {},
   "outputs": [
    {
     "name": "stdout",
     "output_type": "stream",
     "text": [
      "The F1 score using NB  is :\n",
      "0.7687776141384389\n",
      "The accuracy using NB  is :\n",
      "0.642369020501139\n"
     ]
    }
   ],
   "source": [
    "modelNB = MultinomialNB(alpha=1).fit(X_train,y_train)\n",
    "predictionsNB = modelNB.predict(X_test)\n",
    "print('The F1 score using NB  is :')\n",
    "print(f1_score(y_test,predictionsNB))\n",
    "print('The accuracy using NB  is :')\n",
    "print(accuracy_score(y_test,predictionsNB))"
   ]
  },
  {
   "cell_type": "code",
   "execution_count": null,
   "metadata": {},
   "outputs": [],
   "source": []
  }
 ],
 "metadata": {
  "kernelspec": {
   "display_name": "Python 3",
   "language": "python",
   "name": "python3"
  },
  "language_info": {
   "codemirror_mode": {
    "name": "ipython",
    "version": 3
   },
   "file_extension": ".py",
   "mimetype": "text/x-python",
   "name": "python",
   "nbconvert_exporter": "python",
   "pygments_lexer": "ipython3",
   "version": "3.7.3"
  }
 },
 "nbformat": 4,
 "nbformat_minor": 2
}
